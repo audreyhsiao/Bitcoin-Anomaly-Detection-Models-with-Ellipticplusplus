{
 "cells": [
  {
   "cell_type": "code",
   "execution_count": 1,
   "metadata": {},
   "outputs": [],
   "source": [
    "import pandas as pd"
   ]
  },
  {
   "cell_type": "code",
   "execution_count": 2,
   "metadata": {},
   "outputs": [],
   "source": [
    "wallet_edge = pd.read_csv('data/AddrAddr_edgelist.csv')\n",
    "ad_tx = pd.read_csv('data/AddrTx_edgelist.csv')\n",
    "tx_ad = pd.read_csv('data/TxAddr_edgelist.csv')\n",
    "tx = pd.read_csv('data/txs_features.csv')\n",
    "tx_c = pd.read_csv('data/txs_classes.csv')\n",
    "tx_e = pd.read_csv('data/txs_edgelist.csv')\n",
    "tx = pd.merge(tx,tx_c,on='txId',how='left')\n",
    "del tx_c"
   ]
  },
  {
   "cell_type": "code",
   "execution_count": 4,
   "metadata": {},
   "outputs": [],
   "source": [
    "wallet = pd.read_csv('data/wallets_features_classes_combined.csv')"
   ]
  },
  {
   "cell_type": "code",
   "execution_count": 32,
   "metadata": {},
   "outputs": [],
   "source": [
    "ex_wallet = '129V7Lh3jczcY5GDCKLWFwEwhYBrAz84jf'"
   ]
  },
  {
   "cell_type": "code",
   "execution_count": 53,
   "metadata": {},
   "outputs": [
    {
     "data": {
      "text/html": [
       "<div>\n",
       "<style scoped>\n",
       "    .dataframe tbody tr th:only-of-type {\n",
       "        vertical-align: middle;\n",
       "    }\n",
       "\n",
       "    .dataframe tbody tr th {\n",
       "        vertical-align: top;\n",
       "    }\n",
       "\n",
       "    .dataframe thead th {\n",
       "        text-align: right;\n",
       "    }\n",
       "</style>\n",
       "<table border=\"1\" class=\"dataframe\">\n",
       "  <thead>\n",
       "    <tr style=\"text-align: right;\">\n",
       "      <th></th>\n",
       "      <th>input_address</th>\n",
       "      <th>output_address</th>\n",
       "    </tr>\n",
       "  </thead>\n",
       "  <tbody>\n",
       "    <tr>\n",
       "      <th>2882</th>\n",
       "      <td>1JhzWcc1Y9t1AcYuY7Px8nmVuv2yvDikyr</td>\n",
       "      <td>17Akhagbr3iz9jZQDPgNmr1kkRW3NNf8EW</td>\n",
       "    </tr>\n",
       "    <tr>\n",
       "      <th>2884</th>\n",
       "      <td>1MFtuDeLSYNg87QJ8BUDoryT3uzVdCGykW</td>\n",
       "      <td>17Akhagbr3iz9jZQDPgNmr1kkRW3NNf8EW</td>\n",
       "    </tr>\n",
       "    <tr>\n",
       "      <th>2885</th>\n",
       "      <td>1MFtuDeLSYNg87QJ8BUDoryT3uzVdCGykW</td>\n",
       "      <td>1EzU1fYBuvmbRSPe7hNMa8ymbaXrZxvJu1</td>\n",
       "    </tr>\n",
       "    <tr>\n",
       "      <th>2886</th>\n",
       "      <td>14aNFHb9Fso6UCX5NQyFAAY5PQMib32GSL</td>\n",
       "      <td>17Akhagbr3iz9jZQDPgNmr1kkRW3NNf8EW</td>\n",
       "    </tr>\n",
       "    <tr>\n",
       "      <th>2887</th>\n",
       "      <td>14aNFHb9Fso6UCX5NQyFAAY5PQMib32GSL</td>\n",
       "      <td>1EzU1fYBuvmbRSPe7hNMa8ymbaXrZxvJu1</td>\n",
       "    </tr>\n",
       "    <tr>\n",
       "      <th>...</th>\n",
       "      <td>...</td>\n",
       "      <td>...</td>\n",
       "    </tr>\n",
       "    <tr>\n",
       "      <th>17288</th>\n",
       "      <td>1py1zBpExURA1Ex1rGsvRBBfHn2vqE5C5</td>\n",
       "      <td>17Akhagbr3iz9jZQDPgNmr1kkRW3NNf8EW</td>\n",
       "    </tr>\n",
       "    <tr>\n",
       "      <th>17290</th>\n",
       "      <td>1NNBzBx2JAWbbU3YCXG6tyyaiFGpMtaixd</td>\n",
       "      <td>17Akhagbr3iz9jZQDPgNmr1kkRW3NNf8EW</td>\n",
       "    </tr>\n",
       "    <tr>\n",
       "      <th>17296</th>\n",
       "      <td>1PnFCmttXS4ePoZWk2bpJVnXSiBbo4Pta8</td>\n",
       "      <td>17Akhagbr3iz9jZQDPgNmr1kkRW3NNf8EW</td>\n",
       "    </tr>\n",
       "    <tr>\n",
       "      <th>17298</th>\n",
       "      <td>1LAUTefV7YqkhtrsqqZB8KATZg6bbNiRdH</td>\n",
       "      <td>17Akhagbr3iz9jZQDPgNmr1kkRW3NNf8EW</td>\n",
       "    </tr>\n",
       "    <tr>\n",
       "      <th>17309</th>\n",
       "      <td>19fa5F6wARWNgiHzxpPdEqwN1PGng1mDfR</td>\n",
       "      <td>17Akhagbr3iz9jZQDPgNmr1kkRW3NNf8EW</td>\n",
       "    </tr>\n",
       "  </tbody>\n",
       "</table>\n",
       "<p>5772 rows × 2 columns</p>\n",
       "</div>"
      ],
      "text/plain": [
       "                            input_address                      output_address\n",
       "2882   1JhzWcc1Y9t1AcYuY7Px8nmVuv2yvDikyr  17Akhagbr3iz9jZQDPgNmr1kkRW3NNf8EW\n",
       "2884   1MFtuDeLSYNg87QJ8BUDoryT3uzVdCGykW  17Akhagbr3iz9jZQDPgNmr1kkRW3NNf8EW\n",
       "2885   1MFtuDeLSYNg87QJ8BUDoryT3uzVdCGykW  1EzU1fYBuvmbRSPe7hNMa8ymbaXrZxvJu1\n",
       "2886   14aNFHb9Fso6UCX5NQyFAAY5PQMib32GSL  17Akhagbr3iz9jZQDPgNmr1kkRW3NNf8EW\n",
       "2887   14aNFHb9Fso6UCX5NQyFAAY5PQMib32GSL  1EzU1fYBuvmbRSPe7hNMa8ymbaXrZxvJu1\n",
       "...                                   ...                                 ...\n",
       "17288   1py1zBpExURA1Ex1rGsvRBBfHn2vqE5C5  17Akhagbr3iz9jZQDPgNmr1kkRW3NNf8EW\n",
       "17290  1NNBzBx2JAWbbU3YCXG6tyyaiFGpMtaixd  17Akhagbr3iz9jZQDPgNmr1kkRW3NNf8EW\n",
       "17296  1PnFCmttXS4ePoZWk2bpJVnXSiBbo4Pta8  17Akhagbr3iz9jZQDPgNmr1kkRW3NNf8EW\n",
       "17298  1LAUTefV7YqkhtrsqqZB8KATZg6bbNiRdH  17Akhagbr3iz9jZQDPgNmr1kkRW3NNf8EW\n",
       "17309  19fa5F6wARWNgiHzxpPdEqwN1PGng1mDfR  17Akhagbr3iz9jZQDPgNmr1kkRW3NNf8EW\n",
       "\n",
       "[5772 rows x 2 columns]"
      ]
     },
     "execution_count": 53,
     "metadata": {},
     "output_type": "execute_result"
    }
   ],
   "source": [
    "up = wallet_edge[wallet_edge['output_address'].isin(id_list)]\n",
    "a = wallet[wallet['address'].isin(up.input_address.tolist())][['address','class']].drop_duplicates().rename(columns={'address':'id'})\n",
    "up"
   ]
  },
  {
   "cell_type": "code",
   "execution_count": 56,
   "metadata": {},
   "outputs": [],
   "source": [
    "up.rename(columns={'input_address':'Source','output_address':'Target'}).to_csv('act_e.csv',index=False)"
   ]
  },
  {
   "cell_type": "code",
   "execution_count": 41,
   "metadata": {},
   "outputs": [
    {
     "data": {
      "text/html": [
       "<div>\n",
       "<style scoped>\n",
       "    .dataframe tbody tr th:only-of-type {\n",
       "        vertical-align: middle;\n",
       "    }\n",
       "\n",
       "    .dataframe tbody tr th {\n",
       "        vertical-align: top;\n",
       "    }\n",
       "\n",
       "    .dataframe thead th {\n",
       "        text-align: right;\n",
       "    }\n",
       "</style>\n",
       "<table border=\"1\" class=\"dataframe\">\n",
       "  <thead>\n",
       "    <tr style=\"text-align: right;\">\n",
       "      <th></th>\n",
       "      <th>id</th>\n",
       "      <th>class</th>\n",
       "    </tr>\n",
       "  </thead>\n",
       "  <tbody>\n",
       "    <tr>\n",
       "      <th>247284</th>\n",
       "      <td>17Akhagbr3iz9jZQDPgNmr1kkRW3NNf8EW</td>\n",
       "      <td>3</td>\n",
       "    </tr>\n",
       "    <tr>\n",
       "      <th>616211</th>\n",
       "      <td>1EzU1fYBuvmbRSPe7hNMa8ymbaXrZxvJu1</td>\n",
       "      <td>2</td>\n",
       "    </tr>\n",
       "    <tr>\n",
       "      <th>687798</th>\n",
       "      <td>1GVY1GJZLKXyBHjkLVitVNKxuwu6sY2jbt</td>\n",
       "      <td>2</td>\n",
       "    </tr>\n",
       "  </tbody>\n",
       "</table>\n",
       "</div>"
      ],
      "text/plain": [
       "                                        id  class\n",
       "247284  17Akhagbr3iz9jZQDPgNmr1kkRW3NNf8EW      3\n",
       "616211  1EzU1fYBuvmbRSPe7hNMa8ymbaXrZxvJu1      2\n",
       "687798  1GVY1GJZLKXyBHjkLVitVNKxuwu6sY2jbt      2"
      ]
     },
     "execution_count": 41,
     "metadata": {},
     "output_type": "execute_result"
    }
   ],
   "source": [
    "#wallet[wallet.address.isin(wallet_edge[wallet_edge['input_address']==ex_wallet].output_address.tolist())].drop_duplicates()\n",
    "id_list = wallet_edge[wallet_edge['input_address']==ex_wallet].output_address.tolist()\n",
    "a = wallet[wallet['address'].isin(id_list)][['address','class']].drop_duplicates().rename(columns={'address':'id'})\n",
    "a"
   ]
  },
  {
   "cell_type": "code",
   "execution_count": 54,
   "metadata": {},
   "outputs": [
    {
     "data": {
      "text/html": [
       "<div>\n",
       "<style scoped>\n",
       "    .dataframe tbody tr th:only-of-type {\n",
       "        vertical-align: middle;\n",
       "    }\n",
       "\n",
       "    .dataframe tbody tr th {\n",
       "        vertical-align: top;\n",
       "    }\n",
       "\n",
       "    .dataframe thead th {\n",
       "        text-align: right;\n",
       "    }\n",
       "</style>\n",
       "<table border=\"1\" class=\"dataframe\">\n",
       "  <thead>\n",
       "    <tr style=\"text-align: right;\">\n",
       "      <th></th>\n",
       "      <th>id</th>\n",
       "      <th>class</th>\n",
       "    </tr>\n",
       "  </thead>\n",
       "  <tbody>\n",
       "    <tr>\n",
       "      <th>373</th>\n",
       "      <td>112RBTSkPcQuD4VWNKZL3PCDiAyFY1Zdz3</td>\n",
       "      <td>2</td>\n",
       "    </tr>\n",
       "    <tr>\n",
       "      <th>445</th>\n",
       "      <td>112VZQfUcpZsUezWbPN14ryiAnKC7FSZpv</td>\n",
       "      <td>2</td>\n",
       "    </tr>\n",
       "    <tr>\n",
       "      <th>527</th>\n",
       "      <td>112dPgvEt4Vjo8gvycmBU7efZZiKdP3TMi</td>\n",
       "      <td>2</td>\n",
       "    </tr>\n",
       "    <tr>\n",
       "      <th>683</th>\n",
       "      <td>112oYYB2pRt9nSz4jXs6Q39CyswkVL6CnC</td>\n",
       "      <td>2</td>\n",
       "    </tr>\n",
       "    <tr>\n",
       "      <th>1486</th>\n",
       "      <td>113o1wW3DHTJRmDqyshHcdAuHtgYJXo6Y4</td>\n",
       "      <td>2</td>\n",
       "    </tr>\n",
       "    <tr>\n",
       "      <th>...</th>\n",
       "      <td>...</td>\n",
       "      <td>...</td>\n",
       "    </tr>\n",
       "    <tr>\n",
       "      <th>1081065</th>\n",
       "      <td>1xdeVi5hwFXWrFXPGJTYkUBuf2uqLMom5</td>\n",
       "      <td>2</td>\n",
       "    </tr>\n",
       "    <tr>\n",
       "      <th>1081241</th>\n",
       "      <td>1xrL4KwztFTcNBfDVekR1rxLu6WYweUf3</td>\n",
       "      <td>2</td>\n",
       "    </tr>\n",
       "    <tr>\n",
       "      <th>1081599</th>\n",
       "      <td>1yMmC9QJfxejeZMRp7PVNrpthD5LhFJtA</td>\n",
       "      <td>2</td>\n",
       "    </tr>\n",
       "    <tr>\n",
       "      <th>1081638</th>\n",
       "      <td>1yPxtiJKX363xDU4ioKs7vqZneETxsXyK</td>\n",
       "      <td>2</td>\n",
       "    </tr>\n",
       "    <tr>\n",
       "      <th>1081695</th>\n",
       "      <td>1yVCpVobHexp9ecZZCDwxKkQiwgNEy9n2</td>\n",
       "      <td>2</td>\n",
       "    </tr>\n",
       "  </tbody>\n",
       "</table>\n",
       "<p>3577 rows × 2 columns</p>\n",
       "</div>"
      ],
      "text/plain": [
       "                                         id  class\n",
       "373      112RBTSkPcQuD4VWNKZL3PCDiAyFY1Zdz3      2\n",
       "445      112VZQfUcpZsUezWbPN14ryiAnKC7FSZpv      2\n",
       "527      112dPgvEt4Vjo8gvycmBU7efZZiKdP3TMi      2\n",
       "683      112oYYB2pRt9nSz4jXs6Q39CyswkVL6CnC      2\n",
       "1486     113o1wW3DHTJRmDqyshHcdAuHtgYJXo6Y4      2\n",
       "...                                     ...    ...\n",
       "1081065   1xdeVi5hwFXWrFXPGJTYkUBuf2uqLMom5      2\n",
       "1081241   1xrL4KwztFTcNBfDVekR1rxLu6WYweUf3      2\n",
       "1081599   1yMmC9QJfxejeZMRp7PVNrpthD5LhFJtA      2\n",
       "1081638   1yPxtiJKX363xDU4ioKs7vqZneETxsXyK      2\n",
       "1081695   1yVCpVobHexp9ecZZCDwxKkQiwgNEy9n2      2\n",
       "\n",
       "[3577 rows x 2 columns]"
      ]
     },
     "execution_count": 54,
     "metadata": {},
     "output_type": "execute_result"
    }
   ],
   "source": [
    "a"
   ]
  },
  {
   "cell_type": "code",
   "execution_count": 55,
   "metadata": {},
   "outputs": [],
   "source": [
    "a.to_csv('viz_wallet.csv',index=False )"
   ]
  },
  {
   "cell_type": "code",
   "execution_count": null,
   "metadata": {},
   "outputs": [],
   "source": []
  },
  {
   "cell_type": "code",
   "execution_count": 31,
   "metadata": {},
   "outputs": [],
   "source": [
    "wallet[wallet['address']=='129V7Lh3jczcY5GDCKLWFwEwhYBrAz84jf'][['address','class']].drop_duplicates().rename(columns={'address':'id'}).to_csv('viz_wallet.csv',index=False )"
   ]
  },
  {
   "cell_type": "code",
   "execution_count": 66,
   "metadata": {},
   "outputs": [],
   "source": [
    "tx_list = tx_ad[tx_ad['output_address'] == ex_wallet].txId\n",
    "tx[tx.txId.isin(tx_list)][['class','txId']].rename(columns={'txId':'Id'}).to_csv('viz_tx.csv',index=False)"
   ]
  },
  {
   "cell_type": "code",
   "execution_count": null,
   "metadata": {},
   "outputs": [],
   "source": []
  },
  {
   "cell_type": "code",
   "execution_count": 69,
   "metadata": {},
   "outputs": [],
   "source": [
    "tx_ad[tx_ad['output_address'] == ex_wallet].rename(columns={'output_address':'Target','txId':'Source'}).to_csv('ad_tx.csv',index=False)"
   ]
  },
  {
   "cell_type": "code",
   "execution_count": null,
   "metadata": {},
   "outputs": [],
   "source": [
    "from_tx =tx_ad[tx_ad['output_address'] == ex_wallet].txId"
   ]
  },
  {
   "cell_type": "code",
   "execution_count": 22,
   "metadata": {},
   "outputs": [],
   "source": [
    "txIds = tx[tx['Time step']==12][['txId','class']].drop_duplicates().txId"
   ]
  },
  {
   "cell_type": "code",
   "execution_count": 25,
   "metadata": {},
   "outputs": [],
   "source": [
    "tx_e[tx_e['txId1'].isin(txIds)].to_csv('tx_e.csv',index=False)\n",
    "# tx_e[tx_e['txId1'].isin(txIds)].to_csv('tx_e.csv',index=False )\n",
    "# tx_ad[tx_ad['txId'].isin(txIds)].to_csv('tx_ad.csv',index=False )"
   ]
  },
  {
   "cell_type": "code",
   "execution_count": null,
   "metadata": {},
   "outputs": [],
   "source": []
  }
 ],
 "metadata": {
  "kernelspec": {
   "display_name": "base",
   "language": "python",
   "name": "python3"
  },
  "language_info": {
   "codemirror_mode": {
    "name": "ipython",
    "version": 3
   },
   "file_extension": ".py",
   "mimetype": "text/x-python",
   "name": "python",
   "nbconvert_exporter": "python",
   "pygments_lexer": "ipython3",
   "version": "3.8.5"
  }
 },
 "nbformat": 4,
 "nbformat_minor": 2
}
